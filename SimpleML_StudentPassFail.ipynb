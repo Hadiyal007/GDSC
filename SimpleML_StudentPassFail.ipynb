{
  "nbformat": 4,
  "nbformat_minor": 0,
  "metadata": {
    "colab": {
      "provenance": [],
      "authorship_tag": "ABX9TyOKQR2bcligjTUmspT+/3QM",
      "include_colab_link": true
    },
    "kernelspec": {
      "name": "python3",
      "display_name": "Python 3"
    },
    "language_info": {
      "name": "python"
    }
  },
  "cells": [
    {
      "cell_type": "markdown",
      "metadata": {
        "id": "view-in-github",
        "colab_type": "text"
      },
      "source": [
        "<a href=\"https://colab.research.google.com/github/Hadiyal007/GDSC/blob/main/SimpleML_StudentPassFail.ipynb\" target=\"_parent\"><img src=\"https://colab.research.google.com/assets/colab-badge.svg\" alt=\"Open In Colab\"/></a>"
      ]
    },
    {
      "cell_type": "code",
      "execution_count": 1,
      "metadata": {
        "colab": {
          "base_uri": "https://localhost:8080/"
        },
        "id": "BVZrJ2CR9Tar",
        "outputId": "5c1e94b7-1ba7-41fa-c356-548ade23394b"
      },
      "outputs": [
        {
          "output_type": "stream",
          "name": "stdout",
          "text": [
            "Student will FAIL!\n"
          ]
        }
      ],
      "source": [
        "\n",
        "from sklearn.tree import DecisionTreeClassifier\n",
        "\n",
        "X = [[30], [45], [60], [75], [80], [90]]  # Student marks\n",
        "y = [0, 0, 1, 1, 1, 1]  # 0 = Fail, 1 = Pass\n",
        "model = DecisionTreeClassifier()\n",
        "model.fit(X, y)\n",
        "\n",
        "\n",
        "new_marks = [[50]]\n",
        "prediction = model.predict(new_marks)\n",
        "\n",
        "\n",
        "if prediction[0] == 1:\n",
        "    print(\"Student will PASS!\")\n",
        "else:\n",
        "    print(\"Student will FAIL!\")\n",
        "\n"
      ]
    }
  ]
}